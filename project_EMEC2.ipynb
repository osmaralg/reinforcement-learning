{
 "cells": [
  {
   "cell_type": "code",
   "execution_count": 1,
   "metadata": {},
   "outputs": [],
   "source": [
    "import pandas as pd\n",
    "import numpy as np\n",
    "import random \n",
    "import time\n",
    "import datetime"
   ]
  },
  {
   "cell_type": "code",
   "execution_count": 2,
   "metadata": {},
   "outputs": [],
   "source": [
    "#Inputs\n",
    "s = 250 #size of the grid\n",
    "N = 100 #size of population\n",
    "M = round(N * 0.007) #Number of infectious population\n",
    "Et = 2 #Number of days staying exposed\n",
    "It = 21 #Number of days staying infectious\n",
    "Mt = 2 #Number of daily movements\n",
    "D = 30 #Number of days\n",
    "death_rate = 100\n",
    "expose_rate = 3"
   ]
  },
  {
   "cell_type": "code",
   "execution_count": 3,
   "metadata": {},
   "outputs": [],
   "source": [
    "#Initialization\n",
    "S = N - M #Susceptible population\n",
    "E = 0 #Exposed population\n",
    "I = M #Number of infectious population \n",
    "R = 0 #Recovered population\n",
    "P = S + E + I + R #Total population\n",
    "Economy = 0 #Daily economic transaction\n",
    "Cum_Economy = 0 #Total economic transaction\n"
   ]
  },
  {
   "cell_type": "code",
   "execution_count": 4,
   "metadata": {},
   "outputs": [],
   "source": [
    "dummy_array = np.zeros(shape=(P, 8))\n",
    "df = pd.DataFrame(dummy_array, columns=['x', 'y', 'Day', 'Susceptible', 'Exposed', 'Infectious', 'Recovered', 'GG'])\n",
    "\n",
    "df = df.astype(\n",
    "    {'x': int, 'y': int, 'Day': int, 'Susceptible': bool, 'Exposed': int, 'Infectious': int, 'Recovered': bool,\n",
    "     'GG': bool})\n",
    "df['Susceptible'] = True\n",
    "# Appending infectious population in\n",
    "dfupdate = df.sample(M)\n",
    "dfupdate['Infectious'] = np.random.randint(1, It, size=len(dfupdate))\n",
    "dfupdate['Susceptible'] = False\n",
    "df.update(dfupdate)\n",
    "update_list = dfupdate.index.tolist()\n",
    "# Dispersing people randomly among grid\n",
    "df['x'] = np.random.randint(0, s, size=len(df))\n",
    "df['y'] = np.random.randint(0, s, size=len(df))"
   ]
  },
  {
   "cell_type": "code",
   "execution_count": 5,
   "metadata": {},
   "outputs": [],
   "source": [
    "KPIs = ['Active Cases', 'Newly Infected', 'Cured Cases', 'Death Cases', 'Reproduction Rate', 'Economy',\n",
    "        'Current Movement Restriction']\n",
    "KPI_df = pd.DataFrame(columns=KPIs)\n",
    "KPI_df = KPI_df.fillna(0)\n",
    "KPI_df.loc[0, 'Active Cases'] = I\n",
    "KPI_df.loc[0, 'Newly Infected'] = df.loc[df['Infectious'] == 1].Infectious.count()\n",
    "KPI_df.loc[0, 'Cured Cases'] = 0\n",
    "KPI_df.loc[0, 'Death Cases'] = 0\n",
    "KPI_df.loc[0, 'Reproduction Rate'] = df.loc[df['Infectious'] == 1].Infectious.count()\n",
    "KPI_df.loc[0, 'Economy'] = Economy\n",
    "KPI_df.loc[0, 'Current Movement Restriction'] = 0"
   ]
  },
  {
   "cell_type": "code",
   "execution_count": 6,
   "metadata": {},
   "outputs": [
    {
     "name": "stdout",
     "output_type": "stream",
     "text": [
      "done\n"
     ]
    }
   ],
   "source": [
    "print(\"done\")\n",
    "df_infectious = df.loc[(df['Infectious'] > 0)]"
   ]
  },
  {
   "cell_type": "code",
   "execution_count": 13,
   "metadata": {},
   "outputs": [
    {
     "name": "stdout",
     "output_type": "stream",
     "text": [
      "example\n",
      "day 0\n",
      "movement 0\n"
     ]
    }
   ],
   "source": [
    "print(\"example\")\n",
    "#['x','y','Day','Susceptible','Exposed','Infectious','Recovered','GG']\n",
    "# ['x','y','Day','Susceptible','Exposed','Infectious','Recovered','GG']\n",
    "for day in range(D):\n",
    "    print(\"day\", day)\n",
    "    Economy = 0  # Economy per day\n",
    "    for mt in range(Mt):\n",
    "        print(\"movement\", mt)\n",
    "        start = datetime.datetime.now()\n",
    "\n",
    "        for index, person in df.iterrows():\n",
    "\n",
    "            if not person['GG']:  # If the person is not dead\n",
    "\n",
    "                new_move_x = random.choice(range(-1, 2))\n",
    "                new_move_y = random.choice(range(-1, 2))\n",
    "\n",
    "                person['x'] = max(min(person['x'] + new_move_x, S), 0)\n",
    "                person['y'] = max(min(person['y'] + new_move_y, S), 0)\n",
    "\n",
    "                df.iat[index, 0] = person['x']\n",
    "                df.iat[index, 1] = person['y']\n",
    "\n",
    "                if index in df_infectious.index:\n",
    "                    df_infectious.at[index, 'x'] = person['x']\n",
    "                    df_infectious.at[index, 'y'] = person['y']\n",
    "\n",
    "                df.at[index, 'Day'] = day + 1  # updating the day counter\n",
    "\n",
    "                if (person['Infectious'] > 0) and (person['Recovered'] == False): #If a person is in infectious state\n",
    "                    if person['Infectious'] - random.choice(range(0,7)) >= It: #If the infectious days are completed\n",
    "                        if random.choice(range(0,death_rate)) > (death_rate-2): #If the person dies(with probability distribution 1:4)\n",
    "                            df.at[index,'Infectious'] = 0\n",
    "                            if index in df_infectious.index:\n",
    "                                df_infectious.drop([index])\n",
    "\n",
    "                            df.at[index,'GG'] = True #Kill the person\n",
    "                        else: #If the person survives\n",
    "                            df.at[index, 'Infectious'] = 0\n",
    "                            if index in df_infectious.index:\n",
    "                                df_infectious.drop([index])\n",
    "                            df.at[index, 'Recovered'] = True #Recover the person\n",
    "                    elif mt + 1 == Mt:\n",
    "                        df.at[index, 'Infectious'] = person['Infectious'] + 1 #Increase the infectious day counter\n",
    "                elif (person['Exposed'] > 0) and (person['Infectious'] == 0): #If a person is in exposed state\n",
    "                    if (person['Exposed'] - random.choice(range(0,2))) >= Et: #If the person has reached the exposed day limit?  7\n",
    "                        df.at[index, 'Exposed'] = 0\n",
    "                        df.at[index, 'Infectious'] = 1 #Increase the infectious day counter, now the person is infectious\n",
    "                        df_infectious.append(person)\n",
    "                    elif mt+1 == Mt:\n",
    "                        df.at[index, 'Exposed'] = person['Exposed'] + 1 #Increase the exposed day counter\n",
    "\n",
    "                elif person['Susceptible']: #If the person is in susceptible state\n",
    "\n",
    "                    df_x = df_infectious.loc[\n",
    "                                   (df_infectious['x'] == person['x']) |\n",
    "                                   (df_infectious['x'] == person['x'] - 1) |\n",
    "                                   (df_infectious['x'] == person['x'] + 1)\n",
    "                    ]\n",
    "                    if not df_x.empty:\n",
    "                        df_y = df_x.loc[\n",
    "                                       (df_infectious['y'] == person['y']) |\n",
    "                                       (df_infectious['y'] == person['y'] - 1) |\n",
    "                                       (df_infectious['y'] == person['y'] + 1)\n",
    "                        ]\n",
    "                        if not df_y.empty:\n",
    "\n",
    "                            if random.choice(range(0,expose_rate)) > (expose_rate-2):\n",
    "                                df.at[index, 'Exposed'] = 1\n",
    "                                df.at[index, 'Susceptible'] = False\n",
    "\n",
    "                if person['Infectious'] == 0:\n",
    "                    Cum_Economy = Cum_Economy + round(random.uniform(0.8,1), 2)\n",
    "                    Economy = Economy + round(random.uniform(0.8,1), 2)\n",
    "\n",
    "        end = datetime.datetime.now()\n",
    "        print(\"took this time\", end - start)\n",
    "\n",
    "\n",
    "    # Gathering the data\n",
    "    KPI_df.loc[day + 1, 'Active Cases'] = df.loc[df['Infectious'] > 0].Infectious.count()\n",
    "    KPI_df.loc[day + 1, 'Newly Infected'] = df.loc[df['Infectious'] == 1].Infectious.count()\n",
    "    KPI_df.loc[day + 1, 'Cured Cases'] = df.loc[df['Recovered'] == True].Recovered.count()\n",
    "    KPI_df.loc[day + 1, 'Death Cases'] = df.loc[df['GG'] == True].GG.count()\n",
    "    KPI_df.loc[day + 1, 'Reproduction Rate'] = df.loc[df['Infectious'] == 1].Infectious.count()\n",
    "    KPI_df.loc[day + 1, 'Economy'] = Economy\n",
    "    KPI_df.loc[day + 1, 'Current Movement Restriction'] = 0\n",
    "                "
   ]
  },
  {
   "cell_type": "code",
   "execution_count": null,
   "metadata": {},
   "outputs": [],
   "source": [
    "df"
   ]
  },
  {
   "cell_type": "code",
   "execution_count": null,
   "metadata": {},
   "outputs": [],
   "source": []
  }
 ],
 "metadata": {
  "kernelspec": {
   "display_name": "Python 3",
   "language": "python",
   "name": "python3"
  },
  "language_info": {
   "codemirror_mode": {
    "name": "ipython",
    "version": 3
   },
   "file_extension": ".py",
   "mimetype": "text/x-python",
   "name": "python",
   "nbconvert_exporter": "python",
   "pygments_lexer": "ipython3",
   "version": "3.7.6"
  }
 },
 "nbformat": 4,
 "nbformat_minor": 4
}